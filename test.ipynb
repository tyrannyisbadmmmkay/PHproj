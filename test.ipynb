{
 "cells": [
  {
   "cell_type": "code",
   "execution_count": 5,
   "metadata": {},
   "outputs": [
    {
     "data": {
      "text/plain": [
       "True"
      ]
     },
     "execution_count": 5,
     "metadata": {},
     "output_type": "execute_result"
    }
   ],
   "source": [
    "import openai\n",
    "import streamlit as st\n",
    "import time\n",
    "import os\n",
    "import json\n",
    "from dotenv import load_dotenv\n",
    "load_dotenv()"
   ]
  },
  {
   "cell_type": "code",
   "execution_count": 8,
   "metadata": {},
   "outputs": [],
   "source": [
    "assistant_id = os.getenv('ASSISTANT_ID')"
   ]
  },
  {
   "cell_type": "code",
   "execution_count": 11,
   "metadata": {},
   "outputs": [],
   "source": [
    "client = openai"
   ]
  },
  {
   "cell_type": "code",
   "execution_count": 12,
   "metadata": {},
   "outputs": [
    {
     "name": "stderr",
     "output_type": "stream",
     "text": [
      "2023-12-01 18:25:56.358 Session state does not function when running a script without `streamlit run`\n"
     ]
    }
   ],
   "source": [
    "if \"file_id_list\" not in st.session_state:\n",
    "    st.session_state.file_id_list = []\n",
    "\n",
    "if \"start_chat\" not in st.session_state:\n",
    "    st.session_state.start_chat = False\n",
    "\n",
    "if \"thread_id\" not in st.session_state:\n",
    "    st.session_state.thread_id = None"
   ]
  },
  {
   "cell_type": "code",
   "execution_count": 13,
   "metadata": {},
   "outputs": [],
   "source": [
    "openai_api_key_env = os.getenv('OPENAI_API_KEY')\n",
    "openai_api_key = st.sidebar.text_input(\n",
    "    'OpenAI API Key', placeholder='sk-', value=openai_api_key_env)\n",
    "url = \"https://platform.openai.com/account/api-keys\"\n",
    "st.sidebar.markdown(\"Get an Open AI Access Key [here](%s). \" % url)\n",
    "if openai_api_key:\n",
    "    openai.api_key = openai_api_key"
   ]
  },
  {
   "cell_type": "code",
   "execution_count": 14,
   "metadata": {},
   "outputs": [
    {
     "data": {
      "text/plain": [
       "DeltaGenerator()"
      ]
     },
     "execution_count": 14,
     "metadata": {},
     "output_type": "execute_result"
    }
   ],
   "source": [
    "st.set_page_config(page_title=\"Patrick Henry\", page_icon=\":scroll:\", layout=\"wide\")\n",
    "st.header(\":scroll: Patrick Henry\")"
   ]
  },
  {
   "cell_type": "code",
   "execution_count": 15,
   "metadata": {},
   "outputs": [],
   "source": [
    "openai_api_key_env = os.getenv('OPENAI_API_KEY')\n",
    "openai_api_key = st.sidebar.text_input(\n",
    "    'OpenAI API Key', placeholder='sk-', value=openai_api_key_env)\n",
    "url = \"https://platform.openai.com/account/api-keys\"\n",
    "st.sidebar.markdown(\"Get an Open AI Access Key [here](%s). \" % url)\n",
    "if openai_api_key:\n",
    "    openai.api_key = openai_api_key"
   ]
  },
  {
   "cell_type": "code",
   "execution_count": 17,
   "metadata": {},
   "outputs": [],
   "source": [
    "if st.sidebar.button(\"Ask me about your Freedom 🗽\"):\n",
    "    st.session_state.start_chat = True\n",
    "    thread = client.beta.threads.create()\n",
    "    st.session_state.thread_id = thread.id\n",
    "    st.write(\"thread id: \", thread.id)"
   ]
  },
  {
   "cell_type": "code",
   "execution_count": 28,
   "metadata": {},
   "outputs": [],
   "source": [
    "if 'key' not in st.session_state:\n",
    "    st.session_state.key = 'value'"
   ]
  },
  {
   "cell_type": "code",
   "execution_count": null,
   "metadata": {},
   "outputs": [],
   "source": [
    "st.write(st.session_state.key)"
   ]
  },
  {
   "cell_type": "code",
   "execution_count": null,
   "metadata": {},
   "outputs": [],
   "source": [
    "if st.session_state.start_chat:\n",
    "    if \"messages\" not in st.session_state:\n",
    "        st.session_state.messages = []"
   ]
  }
 ],
 "metadata": {
  "kernelspec": {
   "display_name": "Python 3",
   "language": "python",
   "name": "python3"
  },
  "language_info": {
   "codemirror_mode": {
    "name": "ipython",
    "version": 3
   },
   "file_extension": ".py",
   "mimetype": "text/x-python",
   "name": "python",
   "nbconvert_exporter": "python",
   "pygments_lexer": "ipython3",
   "version": "3.11.6"
  }
 },
 "nbformat": 4,
 "nbformat_minor": 2
}
